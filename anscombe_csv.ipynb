{
  "nbformat": 4,
  "nbformat_minor": 0,
  "metadata": {
    "colab": {
      "name": "anscombe.csv.ipynb",
      "provenance": [],
      "authorship_tag": "ABX9TyP8oX8A1hfIwOPzQ8D3ORA7",
      "include_colab_link": true
    },
    "kernelspec": {
      "name": "python3",
      "display_name": "Python 3"
    }
  },
  "cells": [
    {
      "cell_type": "markdown",
      "metadata": {
        "id": "view-in-github",
        "colab_type": "text"
      },
      "source": [
        "<a href=\"https://colab.research.google.com/github/cheng0908/DataMining/blob/main/anscombe_csv.ipynb\" target=\"_parent\"><img src=\"https://colab.research.google.com/assets/colab-badge.svg\" alt=\"Open In Colab\"/></a>"
      ]
    },
    {
      "cell_type": "code",
      "metadata": {
        "id": "zVJc23TG7cXx"
      },
      "source": [
        "import numpy as np\n",
        "import seaborn as sns\n",
        "import pandas as pd\n",
        "import matplotlib.pyplot as plt\n",
        "from sklearn.preprocessing import LabelEncoder"
      ],
      "execution_count": null,
      "outputs": []
    },
    {
      "cell_type": "code",
      "metadata": {
        "colab": {
          "base_uri": "https://localhost:8080/",
          "height": 1000
        },
        "id": "I--uObAT72Wi",
        "outputId": "8c82f6cb-fcb6-40b9-9d10-b2008cb288cc"
      },
      "source": [
        "ans_df = sns.load_dataset('anscombe')\n",
        "ans_df"
      ],
      "execution_count": null,
      "outputs": [
        {
          "output_type": "execute_result",
          "data": {
            "text/html": [
              "<div>\n",
              "<style scoped>\n",
              "    .dataframe tbody tr th:only-of-type {\n",
              "        vertical-align: middle;\n",
              "    }\n",
              "\n",
              "    .dataframe tbody tr th {\n",
              "        vertical-align: top;\n",
              "    }\n",
              "\n",
              "    .dataframe thead th {\n",
              "        text-align: right;\n",
              "    }\n",
              "</style>\n",
              "<table border=\"1\" class=\"dataframe\">\n",
              "  <thead>\n",
              "    <tr style=\"text-align: right;\">\n",
              "      <th></th>\n",
              "      <th>dataset</th>\n",
              "      <th>x</th>\n",
              "      <th>y</th>\n",
              "    </tr>\n",
              "  </thead>\n",
              "  <tbody>\n",
              "    <tr>\n",
              "      <th>0</th>\n",
              "      <td>I</td>\n",
              "      <td>10.0</td>\n",
              "      <td>8.04</td>\n",
              "    </tr>\n",
              "    <tr>\n",
              "      <th>1</th>\n",
              "      <td>I</td>\n",
              "      <td>8.0</td>\n",
              "      <td>6.95</td>\n",
              "    </tr>\n",
              "    <tr>\n",
              "      <th>2</th>\n",
              "      <td>I</td>\n",
              "      <td>13.0</td>\n",
              "      <td>7.58</td>\n",
              "    </tr>\n",
              "    <tr>\n",
              "      <th>3</th>\n",
              "      <td>I</td>\n",
              "      <td>9.0</td>\n",
              "      <td>8.81</td>\n",
              "    </tr>\n",
              "    <tr>\n",
              "      <th>4</th>\n",
              "      <td>I</td>\n",
              "      <td>11.0</td>\n",
              "      <td>8.33</td>\n",
              "    </tr>\n",
              "    <tr>\n",
              "      <th>5</th>\n",
              "      <td>I</td>\n",
              "      <td>14.0</td>\n",
              "      <td>9.96</td>\n",
              "    </tr>\n",
              "    <tr>\n",
              "      <th>6</th>\n",
              "      <td>I</td>\n",
              "      <td>6.0</td>\n",
              "      <td>7.24</td>\n",
              "    </tr>\n",
              "    <tr>\n",
              "      <th>7</th>\n",
              "      <td>I</td>\n",
              "      <td>4.0</td>\n",
              "      <td>4.26</td>\n",
              "    </tr>\n",
              "    <tr>\n",
              "      <th>8</th>\n",
              "      <td>I</td>\n",
              "      <td>12.0</td>\n",
              "      <td>10.84</td>\n",
              "    </tr>\n",
              "    <tr>\n",
              "      <th>9</th>\n",
              "      <td>I</td>\n",
              "      <td>7.0</td>\n",
              "      <td>4.82</td>\n",
              "    </tr>\n",
              "    <tr>\n",
              "      <th>10</th>\n",
              "      <td>I</td>\n",
              "      <td>5.0</td>\n",
              "      <td>5.68</td>\n",
              "    </tr>\n",
              "    <tr>\n",
              "      <th>11</th>\n",
              "      <td>II</td>\n",
              "      <td>10.0</td>\n",
              "      <td>9.14</td>\n",
              "    </tr>\n",
              "    <tr>\n",
              "      <th>12</th>\n",
              "      <td>II</td>\n",
              "      <td>8.0</td>\n",
              "      <td>8.14</td>\n",
              "    </tr>\n",
              "    <tr>\n",
              "      <th>13</th>\n",
              "      <td>II</td>\n",
              "      <td>13.0</td>\n",
              "      <td>8.74</td>\n",
              "    </tr>\n",
              "    <tr>\n",
              "      <th>14</th>\n",
              "      <td>II</td>\n",
              "      <td>9.0</td>\n",
              "      <td>8.77</td>\n",
              "    </tr>\n",
              "    <tr>\n",
              "      <th>15</th>\n",
              "      <td>II</td>\n",
              "      <td>11.0</td>\n",
              "      <td>9.26</td>\n",
              "    </tr>\n",
              "    <tr>\n",
              "      <th>16</th>\n",
              "      <td>II</td>\n",
              "      <td>14.0</td>\n",
              "      <td>8.10</td>\n",
              "    </tr>\n",
              "    <tr>\n",
              "      <th>17</th>\n",
              "      <td>II</td>\n",
              "      <td>6.0</td>\n",
              "      <td>6.13</td>\n",
              "    </tr>\n",
              "    <tr>\n",
              "      <th>18</th>\n",
              "      <td>II</td>\n",
              "      <td>4.0</td>\n",
              "      <td>3.10</td>\n",
              "    </tr>\n",
              "    <tr>\n",
              "      <th>19</th>\n",
              "      <td>II</td>\n",
              "      <td>12.0</td>\n",
              "      <td>9.13</td>\n",
              "    </tr>\n",
              "    <tr>\n",
              "      <th>20</th>\n",
              "      <td>II</td>\n",
              "      <td>7.0</td>\n",
              "      <td>7.26</td>\n",
              "    </tr>\n",
              "    <tr>\n",
              "      <th>21</th>\n",
              "      <td>II</td>\n",
              "      <td>5.0</td>\n",
              "      <td>4.74</td>\n",
              "    </tr>\n",
              "    <tr>\n",
              "      <th>22</th>\n",
              "      <td>III</td>\n",
              "      <td>10.0</td>\n",
              "      <td>7.46</td>\n",
              "    </tr>\n",
              "    <tr>\n",
              "      <th>23</th>\n",
              "      <td>III</td>\n",
              "      <td>8.0</td>\n",
              "      <td>6.77</td>\n",
              "    </tr>\n",
              "    <tr>\n",
              "      <th>24</th>\n",
              "      <td>III</td>\n",
              "      <td>13.0</td>\n",
              "      <td>12.74</td>\n",
              "    </tr>\n",
              "    <tr>\n",
              "      <th>25</th>\n",
              "      <td>III</td>\n",
              "      <td>9.0</td>\n",
              "      <td>7.11</td>\n",
              "    </tr>\n",
              "    <tr>\n",
              "      <th>26</th>\n",
              "      <td>III</td>\n",
              "      <td>11.0</td>\n",
              "      <td>7.81</td>\n",
              "    </tr>\n",
              "    <tr>\n",
              "      <th>27</th>\n",
              "      <td>III</td>\n",
              "      <td>14.0</td>\n",
              "      <td>8.84</td>\n",
              "    </tr>\n",
              "    <tr>\n",
              "      <th>28</th>\n",
              "      <td>III</td>\n",
              "      <td>6.0</td>\n",
              "      <td>6.08</td>\n",
              "    </tr>\n",
              "    <tr>\n",
              "      <th>29</th>\n",
              "      <td>III</td>\n",
              "      <td>4.0</td>\n",
              "      <td>5.39</td>\n",
              "    </tr>\n",
              "    <tr>\n",
              "      <th>30</th>\n",
              "      <td>III</td>\n",
              "      <td>12.0</td>\n",
              "      <td>8.15</td>\n",
              "    </tr>\n",
              "    <tr>\n",
              "      <th>31</th>\n",
              "      <td>III</td>\n",
              "      <td>7.0</td>\n",
              "      <td>6.42</td>\n",
              "    </tr>\n",
              "    <tr>\n",
              "      <th>32</th>\n",
              "      <td>III</td>\n",
              "      <td>5.0</td>\n",
              "      <td>5.73</td>\n",
              "    </tr>\n",
              "    <tr>\n",
              "      <th>33</th>\n",
              "      <td>IV</td>\n",
              "      <td>8.0</td>\n",
              "      <td>6.58</td>\n",
              "    </tr>\n",
              "    <tr>\n",
              "      <th>34</th>\n",
              "      <td>IV</td>\n",
              "      <td>8.0</td>\n",
              "      <td>5.76</td>\n",
              "    </tr>\n",
              "    <tr>\n",
              "      <th>35</th>\n",
              "      <td>IV</td>\n",
              "      <td>8.0</td>\n",
              "      <td>7.71</td>\n",
              "    </tr>\n",
              "    <tr>\n",
              "      <th>36</th>\n",
              "      <td>IV</td>\n",
              "      <td>8.0</td>\n",
              "      <td>8.84</td>\n",
              "    </tr>\n",
              "    <tr>\n",
              "      <th>37</th>\n",
              "      <td>IV</td>\n",
              "      <td>8.0</td>\n",
              "      <td>8.47</td>\n",
              "    </tr>\n",
              "    <tr>\n",
              "      <th>38</th>\n",
              "      <td>IV</td>\n",
              "      <td>8.0</td>\n",
              "      <td>7.04</td>\n",
              "    </tr>\n",
              "    <tr>\n",
              "      <th>39</th>\n",
              "      <td>IV</td>\n",
              "      <td>8.0</td>\n",
              "      <td>5.25</td>\n",
              "    </tr>\n",
              "    <tr>\n",
              "      <th>40</th>\n",
              "      <td>IV</td>\n",
              "      <td>19.0</td>\n",
              "      <td>12.50</td>\n",
              "    </tr>\n",
              "    <tr>\n",
              "      <th>41</th>\n",
              "      <td>IV</td>\n",
              "      <td>8.0</td>\n",
              "      <td>5.56</td>\n",
              "    </tr>\n",
              "    <tr>\n",
              "      <th>42</th>\n",
              "      <td>IV</td>\n",
              "      <td>8.0</td>\n",
              "      <td>7.91</td>\n",
              "    </tr>\n",
              "    <tr>\n",
              "      <th>43</th>\n",
              "      <td>IV</td>\n",
              "      <td>8.0</td>\n",
              "      <td>6.89</td>\n",
              "    </tr>\n",
              "  </tbody>\n",
              "</table>\n",
              "</div>"
            ],
            "text/plain": [
              "   dataset     x      y\n",
              "0        I  10.0   8.04\n",
              "1        I   8.0   6.95\n",
              "2        I  13.0   7.58\n",
              "3        I   9.0   8.81\n",
              "4        I  11.0   8.33\n",
              "5        I  14.0   9.96\n",
              "6        I   6.0   7.24\n",
              "7        I   4.0   4.26\n",
              "8        I  12.0  10.84\n",
              "9        I   7.0   4.82\n",
              "10       I   5.0   5.68\n",
              "11      II  10.0   9.14\n",
              "12      II   8.0   8.14\n",
              "13      II  13.0   8.74\n",
              "14      II   9.0   8.77\n",
              "15      II  11.0   9.26\n",
              "16      II  14.0   8.10\n",
              "17      II   6.0   6.13\n",
              "18      II   4.0   3.10\n",
              "19      II  12.0   9.13\n",
              "20      II   7.0   7.26\n",
              "21      II   5.0   4.74\n",
              "22     III  10.0   7.46\n",
              "23     III   8.0   6.77\n",
              "24     III  13.0  12.74\n",
              "25     III   9.0   7.11\n",
              "26     III  11.0   7.81\n",
              "27     III  14.0   8.84\n",
              "28     III   6.0   6.08\n",
              "29     III   4.0   5.39\n",
              "30     III  12.0   8.15\n",
              "31     III   7.0   6.42\n",
              "32     III   5.0   5.73\n",
              "33      IV   8.0   6.58\n",
              "34      IV   8.0   5.76\n",
              "35      IV   8.0   7.71\n",
              "36      IV   8.0   8.84\n",
              "37      IV   8.0   8.47\n",
              "38      IV   8.0   7.04\n",
              "39      IV   8.0   5.25\n",
              "40      IV  19.0  12.50\n",
              "41      IV   8.0   5.56\n",
              "42      IV   8.0   7.91\n",
              "43      IV   8.0   6.89"
            ]
          },
          "metadata": {
            "tags": []
          },
          "execution_count": 2
        }
      ]
    },
    {
      "cell_type": "code",
      "metadata": {
        "id": "YB1yWmJf8HLq",
        "colab": {
          "base_uri": "https://localhost:8080/"
        },
        "outputId": "ad3992d8-5ce1-4c44-fa44-8429c9f3f738"
      },
      "source": [
        "ans_df.info()"
      ],
      "execution_count": null,
      "outputs": [
        {
          "output_type": "stream",
          "text": [
            "<class 'pandas.core.frame.DataFrame'>\n",
            "RangeIndex: 44 entries, 0 to 43\n",
            "Data columns (total 3 columns):\n",
            " #   Column   Non-Null Count  Dtype  \n",
            "---  ------   --------------  -----  \n",
            " 0   dataset  44 non-null     object \n",
            " 1   x        44 non-null     float64\n",
            " 2   y        44 non-null     float64\n",
            "dtypes: float64(2), object(1)\n",
            "memory usage: 1.2+ KB\n"
          ],
          "name": "stdout"
        }
      ]
    },
    {
      "cell_type": "code",
      "metadata": {
        "colab": {
          "base_uri": "https://localhost:8080/",
          "height": 1000
        },
        "id": "_c91UVmA8X5e",
        "outputId": "e723974c-2896-4ff5-e989-8376a8f92cf1"
      },
      "source": [
        "le = LabelEncoder()\n",
        "ans_df['dataset'] = le.fit_transform(ans_df['dataset'])\n",
        "ans_df"
      ],
      "execution_count": null,
      "outputs": [
        {
          "output_type": "execute_result",
          "data": {
            "text/html": [
              "<div>\n",
              "<style scoped>\n",
              "    .dataframe tbody tr th:only-of-type {\n",
              "        vertical-align: middle;\n",
              "    }\n",
              "\n",
              "    .dataframe tbody tr th {\n",
              "        vertical-align: top;\n",
              "    }\n",
              "\n",
              "    .dataframe thead th {\n",
              "        text-align: right;\n",
              "    }\n",
              "</style>\n",
              "<table border=\"1\" class=\"dataframe\">\n",
              "  <thead>\n",
              "    <tr style=\"text-align: right;\">\n",
              "      <th></th>\n",
              "      <th>dataset</th>\n",
              "      <th>x</th>\n",
              "      <th>y</th>\n",
              "    </tr>\n",
              "  </thead>\n",
              "  <tbody>\n",
              "    <tr>\n",
              "      <th>0</th>\n",
              "      <td>0</td>\n",
              "      <td>10.0</td>\n",
              "      <td>8.04</td>\n",
              "    </tr>\n",
              "    <tr>\n",
              "      <th>1</th>\n",
              "      <td>0</td>\n",
              "      <td>8.0</td>\n",
              "      <td>6.95</td>\n",
              "    </tr>\n",
              "    <tr>\n",
              "      <th>2</th>\n",
              "      <td>0</td>\n",
              "      <td>13.0</td>\n",
              "      <td>7.58</td>\n",
              "    </tr>\n",
              "    <tr>\n",
              "      <th>3</th>\n",
              "      <td>0</td>\n",
              "      <td>9.0</td>\n",
              "      <td>8.81</td>\n",
              "    </tr>\n",
              "    <tr>\n",
              "      <th>4</th>\n",
              "      <td>0</td>\n",
              "      <td>11.0</td>\n",
              "      <td>8.33</td>\n",
              "    </tr>\n",
              "    <tr>\n",
              "      <th>5</th>\n",
              "      <td>0</td>\n",
              "      <td>14.0</td>\n",
              "      <td>9.96</td>\n",
              "    </tr>\n",
              "    <tr>\n",
              "      <th>6</th>\n",
              "      <td>0</td>\n",
              "      <td>6.0</td>\n",
              "      <td>7.24</td>\n",
              "    </tr>\n",
              "    <tr>\n",
              "      <th>7</th>\n",
              "      <td>0</td>\n",
              "      <td>4.0</td>\n",
              "      <td>4.26</td>\n",
              "    </tr>\n",
              "    <tr>\n",
              "      <th>8</th>\n",
              "      <td>0</td>\n",
              "      <td>12.0</td>\n",
              "      <td>10.84</td>\n",
              "    </tr>\n",
              "    <tr>\n",
              "      <th>9</th>\n",
              "      <td>0</td>\n",
              "      <td>7.0</td>\n",
              "      <td>4.82</td>\n",
              "    </tr>\n",
              "    <tr>\n",
              "      <th>10</th>\n",
              "      <td>0</td>\n",
              "      <td>5.0</td>\n",
              "      <td>5.68</td>\n",
              "    </tr>\n",
              "    <tr>\n",
              "      <th>11</th>\n",
              "      <td>1</td>\n",
              "      <td>10.0</td>\n",
              "      <td>9.14</td>\n",
              "    </tr>\n",
              "    <tr>\n",
              "      <th>12</th>\n",
              "      <td>1</td>\n",
              "      <td>8.0</td>\n",
              "      <td>8.14</td>\n",
              "    </tr>\n",
              "    <tr>\n",
              "      <th>13</th>\n",
              "      <td>1</td>\n",
              "      <td>13.0</td>\n",
              "      <td>8.74</td>\n",
              "    </tr>\n",
              "    <tr>\n",
              "      <th>14</th>\n",
              "      <td>1</td>\n",
              "      <td>9.0</td>\n",
              "      <td>8.77</td>\n",
              "    </tr>\n",
              "    <tr>\n",
              "      <th>15</th>\n",
              "      <td>1</td>\n",
              "      <td>11.0</td>\n",
              "      <td>9.26</td>\n",
              "    </tr>\n",
              "    <tr>\n",
              "      <th>16</th>\n",
              "      <td>1</td>\n",
              "      <td>14.0</td>\n",
              "      <td>8.10</td>\n",
              "    </tr>\n",
              "    <tr>\n",
              "      <th>17</th>\n",
              "      <td>1</td>\n",
              "      <td>6.0</td>\n",
              "      <td>6.13</td>\n",
              "    </tr>\n",
              "    <tr>\n",
              "      <th>18</th>\n",
              "      <td>1</td>\n",
              "      <td>4.0</td>\n",
              "      <td>3.10</td>\n",
              "    </tr>\n",
              "    <tr>\n",
              "      <th>19</th>\n",
              "      <td>1</td>\n",
              "      <td>12.0</td>\n",
              "      <td>9.13</td>\n",
              "    </tr>\n",
              "    <tr>\n",
              "      <th>20</th>\n",
              "      <td>1</td>\n",
              "      <td>7.0</td>\n",
              "      <td>7.26</td>\n",
              "    </tr>\n",
              "    <tr>\n",
              "      <th>21</th>\n",
              "      <td>1</td>\n",
              "      <td>5.0</td>\n",
              "      <td>4.74</td>\n",
              "    </tr>\n",
              "    <tr>\n",
              "      <th>22</th>\n",
              "      <td>2</td>\n",
              "      <td>10.0</td>\n",
              "      <td>7.46</td>\n",
              "    </tr>\n",
              "    <tr>\n",
              "      <th>23</th>\n",
              "      <td>2</td>\n",
              "      <td>8.0</td>\n",
              "      <td>6.77</td>\n",
              "    </tr>\n",
              "    <tr>\n",
              "      <th>24</th>\n",
              "      <td>2</td>\n",
              "      <td>13.0</td>\n",
              "      <td>12.74</td>\n",
              "    </tr>\n",
              "    <tr>\n",
              "      <th>25</th>\n",
              "      <td>2</td>\n",
              "      <td>9.0</td>\n",
              "      <td>7.11</td>\n",
              "    </tr>\n",
              "    <tr>\n",
              "      <th>26</th>\n",
              "      <td>2</td>\n",
              "      <td>11.0</td>\n",
              "      <td>7.81</td>\n",
              "    </tr>\n",
              "    <tr>\n",
              "      <th>27</th>\n",
              "      <td>2</td>\n",
              "      <td>14.0</td>\n",
              "      <td>8.84</td>\n",
              "    </tr>\n",
              "    <tr>\n",
              "      <th>28</th>\n",
              "      <td>2</td>\n",
              "      <td>6.0</td>\n",
              "      <td>6.08</td>\n",
              "    </tr>\n",
              "    <tr>\n",
              "      <th>29</th>\n",
              "      <td>2</td>\n",
              "      <td>4.0</td>\n",
              "      <td>5.39</td>\n",
              "    </tr>\n",
              "    <tr>\n",
              "      <th>30</th>\n",
              "      <td>2</td>\n",
              "      <td>12.0</td>\n",
              "      <td>8.15</td>\n",
              "    </tr>\n",
              "    <tr>\n",
              "      <th>31</th>\n",
              "      <td>2</td>\n",
              "      <td>7.0</td>\n",
              "      <td>6.42</td>\n",
              "    </tr>\n",
              "    <tr>\n",
              "      <th>32</th>\n",
              "      <td>2</td>\n",
              "      <td>5.0</td>\n",
              "      <td>5.73</td>\n",
              "    </tr>\n",
              "    <tr>\n",
              "      <th>33</th>\n",
              "      <td>3</td>\n",
              "      <td>8.0</td>\n",
              "      <td>6.58</td>\n",
              "    </tr>\n",
              "    <tr>\n",
              "      <th>34</th>\n",
              "      <td>3</td>\n",
              "      <td>8.0</td>\n",
              "      <td>5.76</td>\n",
              "    </tr>\n",
              "    <tr>\n",
              "      <th>35</th>\n",
              "      <td>3</td>\n",
              "      <td>8.0</td>\n",
              "      <td>7.71</td>\n",
              "    </tr>\n",
              "    <tr>\n",
              "      <th>36</th>\n",
              "      <td>3</td>\n",
              "      <td>8.0</td>\n",
              "      <td>8.84</td>\n",
              "    </tr>\n",
              "    <tr>\n",
              "      <th>37</th>\n",
              "      <td>3</td>\n",
              "      <td>8.0</td>\n",
              "      <td>8.47</td>\n",
              "    </tr>\n",
              "    <tr>\n",
              "      <th>38</th>\n",
              "      <td>3</td>\n",
              "      <td>8.0</td>\n",
              "      <td>7.04</td>\n",
              "    </tr>\n",
              "    <tr>\n",
              "      <th>39</th>\n",
              "      <td>3</td>\n",
              "      <td>8.0</td>\n",
              "      <td>5.25</td>\n",
              "    </tr>\n",
              "    <tr>\n",
              "      <th>40</th>\n",
              "      <td>3</td>\n",
              "      <td>19.0</td>\n",
              "      <td>12.50</td>\n",
              "    </tr>\n",
              "    <tr>\n",
              "      <th>41</th>\n",
              "      <td>3</td>\n",
              "      <td>8.0</td>\n",
              "      <td>5.56</td>\n",
              "    </tr>\n",
              "    <tr>\n",
              "      <th>42</th>\n",
              "      <td>3</td>\n",
              "      <td>8.0</td>\n",
              "      <td>7.91</td>\n",
              "    </tr>\n",
              "    <tr>\n",
              "      <th>43</th>\n",
              "      <td>3</td>\n",
              "      <td>8.0</td>\n",
              "      <td>6.89</td>\n",
              "    </tr>\n",
              "  </tbody>\n",
              "</table>\n",
              "</div>"
            ],
            "text/plain": [
              "    dataset     x      y\n",
              "0         0  10.0   8.04\n",
              "1         0   8.0   6.95\n",
              "2         0  13.0   7.58\n",
              "3         0   9.0   8.81\n",
              "4         0  11.0   8.33\n",
              "5         0  14.0   9.96\n",
              "6         0   6.0   7.24\n",
              "7         0   4.0   4.26\n",
              "8         0  12.0  10.84\n",
              "9         0   7.0   4.82\n",
              "10        0   5.0   5.68\n",
              "11        1  10.0   9.14\n",
              "12        1   8.0   8.14\n",
              "13        1  13.0   8.74\n",
              "14        1   9.0   8.77\n",
              "15        1  11.0   9.26\n",
              "16        1  14.0   8.10\n",
              "17        1   6.0   6.13\n",
              "18        1   4.0   3.10\n",
              "19        1  12.0   9.13\n",
              "20        1   7.0   7.26\n",
              "21        1   5.0   4.74\n",
              "22        2  10.0   7.46\n",
              "23        2   8.0   6.77\n",
              "24        2  13.0  12.74\n",
              "25        2   9.0   7.11\n",
              "26        2  11.0   7.81\n",
              "27        2  14.0   8.84\n",
              "28        2   6.0   6.08\n",
              "29        2   4.0   5.39\n",
              "30        2  12.0   8.15\n",
              "31        2   7.0   6.42\n",
              "32        2   5.0   5.73\n",
              "33        3   8.0   6.58\n",
              "34        3   8.0   5.76\n",
              "35        3   8.0   7.71\n",
              "36        3   8.0   8.84\n",
              "37        3   8.0   8.47\n",
              "38        3   8.0   7.04\n",
              "39        3   8.0   5.25\n",
              "40        3  19.0  12.50\n",
              "41        3   8.0   5.56\n",
              "42        3   8.0   7.91\n",
              "43        3   8.0   6.89"
            ]
          },
          "metadata": {
            "tags": []
          },
          "execution_count": 4
        }
      ]
    },
    {
      "cell_type": "code",
      "metadata": {
        "colab": {
          "base_uri": "https://localhost:8080/",
          "height": 458
        },
        "id": "bmmekCIW8s8z",
        "outputId": "78f531d8-9e74-4550-938c-fac9b68d1f8c"
      },
      "source": [
        "sns.set_style('darkgrid')\n",
        "sns.jointplot(x = 'x', y='dataset', data = ans_df)"
      ],
      "execution_count": null,
      "outputs": [
        {
          "output_type": "execute_result",
          "data": {
            "text/plain": [
              "<seaborn.axisgrid.JointGrid at 0x7fd49232a080>"
            ]
          },
          "metadata": {
            "tags": []
          },
          "execution_count": 5
        },
        {
          "output_type": "display_data",
          "data": {
            "image/png": "[encoded data removed]",
            "text/plain": [
              "<Figure size 432x432 with 3 Axes>"
            ]
          },
          "metadata": {
            "tags": []
          }
        }
      ]
    },
    {
      "cell_type": "code",
      "metadata": {
        "colab": {
          "base_uri": "https://localhost:8080/",
          "height": 391
        },
        "id": "QND7Rcvw9GGF",
        "outputId": "52e93359-9042-4426-dde3-c222d63f4f4e"
      },
      "source": [
        "sns.pairplot(ans_df, hue='dataset')"
      ],
      "execution_count": null,
      "outputs": [
        {
          "output_type": "execute_result",
          "data": {
            "text/plain": [
              "<seaborn.axisgrid.PairGrid at 0x7fd4a2e32c88>"
            ]
          },
          "metadata": {
            "tags": []
          },
          "execution_count": 6
        },
        {
          "output_type": "display_data",
          "data": {
            "image/png": "[encoded data removed]",
            "text/plain": [
              "<Figure size 405.75x360 with 6 Axes>"
            ]
          },
          "metadata": {
            "tags": []
          }
        }
      ]
    },
    {
      "cell_type": "code",
      "metadata": {
        "colab": {
          "base_uri": "https://localhost:8080/",
          "height": 1000
        },
        "id": "87GhVvpH9bkx",
        "outputId": "e228e3e9-af6b-45d1-92df-548b648bebe0"
      },
      "source": [
        "aaa = ans_df[['x','dataset']]\n",
        "print(aaa)\n",
        "sns.boxplot(x='x', data=aaa, hue='dataset')"
      ],
      "execution_count": null,
      "outputs": [
        {
          "output_type": "stream",
          "text": [
            "       x  dataset\n",
            "0   10.0        0\n",
            "1    8.0        0\n",
            "2   13.0        0\n",
            "3    9.0        0\n",
            "4   11.0        0\n",
            "5   14.0        0\n",
            "6    6.0        0\n",
            "7    4.0        0\n",
            "8   12.0        0\n",
            "9    7.0        0\n",
            "10   5.0        0\n",
            "11  10.0        1\n",
            "12   8.0        1\n",
            "13  13.0        1\n",
            "14   9.0        1\n",
            "15  11.0        1\n",
            "16  14.0        1\n",
            "17   6.0        1\n",
            "18   4.0        1\n",
            "19  12.0        1\n",
            "20   7.0        1\n",
            "21   5.0        1\n",
            "22  10.0        2\n",
            "23   8.0        2\n",
            "24  13.0        2\n",
            "25   9.0        2\n",
            "26  11.0        2\n",
            "27  14.0        2\n",
            "28   6.0        2\n",
            "29   4.0        2\n",
            "30  12.0        2\n",
            "31   7.0        2\n",
            "32   5.0        2\n",
            "33   8.0        3\n",
            "34   8.0        3\n",
            "35   8.0        3\n",
            "36   8.0        3\n",
            "37   8.0        3\n",
            "38   8.0        3\n",
            "39   8.0        3\n",
            "40  19.0        3\n",
            "41   8.0        3\n",
            "42   8.0        3\n",
            "43   8.0        3\n"
          ],
          "name": "stdout"
        },
        {
          "output_type": "execute_result",
          "data": {
            "text/plain": [
              "<matplotlib.axes._subplots.AxesSubplot at 0x7fe4bd462898>"
            ]
          },
          "metadata": {
            "tags": []
          },
          "execution_count": 36
        },
        {
          "output_type": "display_data",
          "data": {
            "image/png": "[encoded data removed]",
            "text/plain": [
              "<Figure size 432x288 with 1 Axes>"
            ]
          },
          "metadata": {
            "tags": []
          }
        }
      ]
    },
    {
      "cell_type": "code",
      "metadata": {
        "colab": {
          "base_uri": "https://localhost:8080/"
        },
        "id": "G2___mqO-MBz",
        "outputId": "ace7ca09-7701-4511-881d-c45598c01ff3"
      },
      "source": [
        "print(aaa['x'].describe())"
      ],
      "execution_count": null,
      "outputs": [
        {
          "output_type": "stream",
          "text": [
            "count    44.000000\n",
            "mean      9.000000\n",
            "std       3.198837\n",
            "min       4.000000\n",
            "25%       7.000000\n",
            "50%       8.000000\n",
            "75%      11.000000\n",
            "max      19.000000\n",
            "Name: x, dtype: float64\n"
          ],
          "name": "stdout"
        }
      ]
    },
    {
      "cell_type": "code",
      "metadata": {
        "colab": {
          "base_uri": "https://localhost:8080/"
        },
        "id": "7SdOYbLQBAih",
        "outputId": "45f73346-7ac2-4ec7-e994-decec7c0a607"
      },
      "source": [
        "pip install info_gain"
      ],
      "execution_count": null,
      "outputs": [
        {
          "output_type": "stream",
          "text": [
            "Requirement already satisfied: info_gain in /usr/local/lib/python3.6/dist-packages (1.0.1)\n"
          ],
          "name": "stdout"
        }
      ]
    },
    {
      "cell_type": "code",
      "metadata": {
        "id": "K-j6QQpSBIi5"
      },
      "source": [
        "from info_gain import info_gain"
      ],
      "execution_count": null,
      "outputs": []
    },
    {
      "cell_type": "code",
      "metadata": {
        "colab": {
          "base_uri": "https://localhost:8080/"
        },
        "id": "Dageuc41BNA3",
        "outputId": "edf243f2-2625-489c-9139-2f10b07be618"
      },
      "source": [
        "ig = info_gain.info_gain(ans_df.x, ans_df.dataset)\n",
        "igr = info_gain.info_gain_ratio(ans_df.x, ans_df.dataset)\n",
        "\n",
        "print('Info Gain of x: ', ig)\n",
        "print('Info Gain Ratio of x: ', igr)"
      ],
      "execution_count": null,
      "outputs": [
        {
          "output_type": "stream",
          "text": [
            "Info Gain of x:  0.40272937527664476\n",
            "Info Gain Ratio of x:  0.20136468763832238\n"
          ],
          "name": "stdout"
        }
      ]
    },
    {
      "cell_type": "code",
      "metadata": {
        "colab": {
          "base_uri": "https://localhost:8080/"
        },
        "id": "9vxtjBCx_iSK",
        "outputId": "ad7bff1b-1b93-4666-87fb-6a2fdc78686f"
      },
      "source": [
        "indexNames = ans_df[ans_df['x']>=14].index\n",
        "print('Delete: ',indexNames)\n",
        "ans_df.drop(indexNames, inplace= True)\n",
        "\n",
        "indexNames = ans_df[ans_df['x']<4].index\n",
        "print('Delete: ',indexNames)\n",
        "ans_df.drop(indexNames, inplace= True)"
      ],
      "execution_count": null,
      "outputs": [
        {
          "output_type": "stream",
          "text": [
            "Delete:  Int64Index([5, 16, 27, 40], dtype='int64')\n",
            "Delete:  Int64Index([], dtype='int64')\n"
          ],
          "name": "stdout"
        }
      ]
    },
    {
      "cell_type": "code",
      "metadata": {
        "colab": {
          "base_uri": "https://localhost:8080/"
        },
        "id": "blQ-c2apB-Q9",
        "outputId": "849fef5f-fefb-4570-c292-7936e38e1995"
      },
      "source": [
        "ig = info_gain.info_gain(ans_df.x, ans_df.dataset)\n",
        "igr = info_gain.info_gain_ratio(ans_df.x, ans_df.dataset)\n",
        "\n",
        "print('Info Gain of x: ', ig)\n",
        "print('Info Gain Ratio of x: ', igr)"
      ],
      "execution_count": null,
      "outputs": [
        {
          "output_type": "stream",
          "text": [
            "Info Gain of x:  0.3867687983424286\n",
            "Info Gain Ratio of x:  0.1933843991712143\n"
          ],
          "name": "stdout"
        }
      ]
    },
    {
      "cell_type": "code",
      "metadata": {
        "colab": {
          "base_uri": "https://localhost:8080/"
        },
        "id": "zu3sYIf1DMHS",
        "outputId": "6dcc3db8-3a87-4547-a2cb-f13738ea34d4"
      },
      "source": [
        "ig = info_gain.info_gain(ans_df.y, ans_df.dataset)\n",
        "igr = info_gain.info_gain_ratio(ans_df.y, ans_df.dataset)\n",
        "\n",
        "print('Info Gain of y: ', ig)\n",
        "print('Info Gain Ratio of y: ', igr)"
      ],
      "execution_count": null,
      "outputs": [
        {
          "output_type": "stream",
          "text": [
            "Info Gain of y:  1.3547876710944387\n",
            "Info Gain Ratio of y:  0.6773938355472193\n"
          ],
          "name": "stdout"
        }
      ]
    },
    {
      "cell_type": "code",
      "metadata": {
        "colab": {
          "base_uri": "https://localhost:8080/",
          "height": 1000
        },
        "id": "Ruxro2HgFY_o",
        "outputId": "ae7fa2d6-ab5a-4bd4-ce03-76ec18be1ee9"
      },
      "source": [
        "bbb = ans_df[['y','dataset']]\n",
        "print(aaa)\n",
        "sns.boxplot(x='y', data=bbb, hue='dataset')"
      ],
      "execution_count": null,
      "outputs": [
        {
          "output_type": "stream",
          "text": [
            "       x  dataset\n",
            "0   10.0        0\n",
            "1    8.0        0\n",
            "2   13.0        0\n",
            "3    9.0        0\n",
            "4   11.0        0\n",
            "5   14.0        0\n",
            "6    6.0        0\n",
            "7    4.0        0\n",
            "8   12.0        0\n",
            "9    7.0        0\n",
            "10   5.0        0\n",
            "11  10.0        1\n",
            "12   8.0        1\n",
            "13  13.0        1\n",
            "14   9.0        1\n",
            "15  11.0        1\n",
            "16  14.0        1\n",
            "17   6.0        1\n",
            "18   4.0        1\n",
            "19  12.0        1\n",
            "20   7.0        1\n",
            "21   5.0        1\n",
            "22  10.0        2\n",
            "23   8.0        2\n",
            "24  13.0        2\n",
            "25   9.0        2\n",
            "26  11.0        2\n",
            "27  14.0        2\n",
            "28   6.0        2\n",
            "29   4.0        2\n",
            "30  12.0        2\n",
            "31   7.0        2\n",
            "32   5.0        2\n",
            "33   8.0        3\n",
            "34   8.0        3\n",
            "35   8.0        3\n",
            "36   8.0        3\n",
            "37   8.0        3\n",
            "38   8.0        3\n",
            "39   8.0        3\n",
            "40  19.0        3\n",
            "41   8.0        3\n",
            "42   8.0        3\n",
            "43   8.0        3\n"
          ],
          "name": "stdout"
        },
        {
          "output_type": "execute_result",
          "data": {
            "text/plain": [
              "<matplotlib.axes._subplots.AxesSubplot at 0x7fe4bd3f07b8>"
            ]
          },
          "metadata": {
            "tags": []
          },
          "execution_count": 42
        },
        {
          "output_type": "display_data",
          "data": {
            "image/png": "[encoded data removed]",
            "text/plain": [
              "<Figure size 432x288 with 1 Axes>"
            ]
          },
          "metadata": {
            "tags": []
          }
        }
      ]
    },
    {
      "cell_type": "code",
      "metadata": {
        "colab": {
          "base_uri": "https://localhost:8080/"
        },
        "id": "cNXitkk0FjaH",
        "outputId": "f5215360-6dd3-4595-abb0-1e0ca23c390d"
      },
      "source": [
        "print(ans_df.y.describe())"
      ],
      "execution_count": null,
      "outputs": [
        {
          "output_type": "stream",
          "text": [
            "count    44.000000\n",
            "mean      7.500682\n",
            "std       1.958925\n",
            "min       3.100000\n",
            "25%       6.117500\n",
            "50%       7.520000\n",
            "75%       8.747500\n",
            "max      12.740000\n",
            "Name: y, dtype: float64\n"
          ],
          "name": "stdout"
        }
      ]
    },
    {
      "cell_type": "code",
      "metadata": {
        "id": "X1IOa8KuFuim"
      },
      "source": [
        "from sklearn import datasets, linear_model\n",
        "from sklearn.model_selection import train_test_split\n",
        "from sklearn.metrics import mean_squared_error, r2_score\n",
        "\n",
        "x = ans_df.drop(['dataset'], axis=1)\n",
        "y = ans_df.dataset\n",
        "\n",
        "x_train, x_test, y_train, y_test = train_test_split(x, y, test_size=0.2, random_state=1)"
      ],
      "execution_count": null,
      "outputs": []
    },
    {
      "cell_type": "code",
      "metadata": {
        "id": "EbpJsTXhmN9B"
      },
      "source": [
        "from sklearn import tree\n",
        "from sklearn.metrics import roc_curve, roc_auc_score, auc, accuracy_score, confusion_matrix, classification_report"
      ],
      "execution_count": null,
      "outputs": []
    },
    {
      "cell_type": "code",
      "metadata": {
        "colab": {
          "base_uri": "https://localhost:8080/",
          "height": 687
        },
        "id": "ek_SoG_-mYax",
        "outputId": "3d25ae2a-3aa7-44a0-c762-988e13dedea8"
      },
      "source": [
        "#Decision Tree\n",
        "dt = tree.DecisionTreeClassifier()\n",
        "\n",
        "dt.fit(x_train, y_train)\n",
        "print('Decision Tree:')\n",
        "print('Train set accuracy:', dt.score(x_train, y_train))\n",
        "print('Test set accuracy:', dt.score(x_test, y_test))\n",
        "\n",
        "cnf = confusion_matrix(y_train, dt.predict(x_train))\n",
        "print('The confusion metrix of tranning set\\n', cnf)\n",
        "cnf=confusion_matrix(y_test, dt.predict(x_test))\n",
        "print('The confusion metrix of testing set\\n', cnf)\n",
        "\n",
        "mat = confusion_matrix(y_test, dt.predict(x_test))\n",
        "sns.heatmap(mat.T, square=True, annot=True, fmt='d', cbar=False)\n",
        "plt.xlabel('true label')\n",
        "plt.ylabel('predicted label');\n",
        "\n",
        "print(classification_report(y_test, dt.predict(x_test)))"
      ],
      "execution_count": null,
      "outputs": [
        {
          "output_type": "stream",
          "text": [
            "Decision Tree:\n",
            "Train set accuracy: 1.0\n",
            "Test set accuracy: 0.5555555555555556\n",
            "The confusion metrix of tranning set\n",
            " [[9 0 0 0]\n",
            " [0 9 0 0]\n",
            " [0 0 9 0]\n",
            " [0 0 0 8]]\n",
            "The confusion metrix of testing set\n",
            " [[0 1 1 0]\n",
            " [1 1 0 0]\n",
            " [1 0 1 0]\n",
            " [0 0 0 3]]\n",
            "              precision    recall  f1-score   support\n",
            "\n",
            "           0       0.00      0.00      0.00         2\n",
            "           1       0.50      0.50      0.50         2\n",
            "           2       0.50      0.50      0.50         2\n",
            "           3       1.00      1.00      1.00         3\n",
            "\n",
            "    accuracy                           0.56         9\n",
            "   macro avg       0.50      0.50      0.50         9\n",
            "weighted avg       0.56      0.56      0.56         9\n",
            "\n"
          ],
          "name": "stdout"
        },
        {
          "output_type": "display_data",
          "data": {
            "image/png": "[encoded data removed]",
            "text/plain": [
              "<Figure size 432x288 with 1 Axes>"
            ]
          },
          "metadata": {
            "tags": []
          }
        }
      ]
    },
    {
      "cell_type": "code",
      "metadata": {
        "id": "qWXBg8YSmn5p"
      },
      "source": [
        "from sklearn.neighbors import KNeighborsClassifier"
      ],
      "execution_count": null,
      "outputs": []
    },
    {
      "cell_type": "code",
      "metadata": {
        "colab": {
          "base_uri": "https://localhost:8080/",
          "height": 421
        },
        "id": "ID__O8VPmwQX",
        "outputId": "8ae15521-5c55-41d2-d4ac-2f6bc82769c6"
      },
      "source": [
        "knn = KNeighborsClassifier(n_neighbors= 1)\n",
        "error_rate = []\n",
        "\n",
        "for i in range(1,30):\n",
        "  knn = KNeighborsClassifier(n_neighbors=i)\n",
        "  knn.fit(x_train,y_train)\n",
        "  pred_i = knn.predict(x_test)\n",
        "  error_rate.append(np.mean(pred_i !=y_test))\n",
        "\n",
        "plt.figure(figsize=(20,6))\n",
        "plt.plot(range(1,30),error_rate,color=\"blue\",linestyle=\"dashed\",marker=\"o\",markerfacecolor=\"red\",markersize=10)\n",
        "plt.title(\"Error Rate vs. K Value\")\n",
        "plt.xlabel(\"K\")\n",
        "\n",
        "plt.ylabel(\"Error Rate\")"
      ],
      "execution_count": null,
      "outputs": [
        {
          "output_type": "execute_result",
          "data": {
            "text/plain": [
              "Text(0, 0.5, 'Error Rate')"
            ]
          },
          "metadata": {
            "tags": []
          },
          "execution_count": 23
        },
        {
          "output_type": "display_data",
          "data": {
            "image/png": "[encoded data removed]",
            "text/plain": [
              "<Figure size 1440x432 with 1 Axes>"
            ]
          },
          "metadata": {
            "tags": []
          }
        }
      ]
    },
    {
      "cell_type": "code",
      "metadata": {
        "colab": {
          "base_uri": "https://localhost:8080/",
          "height": 687
        },
        "id": "4dbWF8hlm_mW",
        "outputId": "b986c3ed-f745-4c39-8bef-7d7b47a67a4c"
      },
      "source": [
        "knn = KNeighborsClassifier(n_neighbors=3)\n",
        "knn.fit(x_train,y_train)\n",
        "print('Knn:')\n",
        "print('Train set accuracy:', knn.score(x_train, y_train))\n",
        "print('Test set accuracy:', knn.score(x_test, y_test))\n",
        "\n",
        "cnf = confusion_matrix(y_train, knn.predict(x_train))\n",
        "print('The confusion metrix of tranning set\\n', cnf)\n",
        "cnf=confusion_matrix(y_test, knn.predict(x_test))\n",
        "print('The confusion metrix of testing set\\n', cnf)\n",
        "\n",
        "mat = confusion_matrix(y_test, knn.predict(x_test))\n",
        "sns.heatmap(mat.T, square=True, annot=True, fmt='d', cbar=False)\n",
        "plt.xlabel('true label')\n",
        "plt.ylabel('predicted label');\n",
        "\n",
        "print(classification_report(y_test, knn.predict(x_test)))"
      ],
      "execution_count": null,
      "outputs": [
        {
          "output_type": "stream",
          "text": [
            "Knn:\n",
            "Train set accuracy: 0.5428571428571428\n",
            "Test set accuracy: 0.5555555555555556\n",
            "The confusion metrix of tranning set\n",
            " [[6 1 1 1]\n",
            " [2 4 1 2]\n",
            " [4 2 3 0]\n",
            " [2 0 0 6]]\n",
            "The confusion metrix of testing set\n",
            " [[0 2 0 0]\n",
            " [1 1 0 0]\n",
            " [1 0 1 0]\n",
            " [0 0 0 3]]\n",
            "              precision    recall  f1-score   support\n",
            "\n",
            "           0       0.00      0.00      0.00         2\n",
            "           1       0.33      0.50      0.40         2\n",
            "           2       1.00      0.50      0.67         2\n",
            "           3       1.00      1.00      1.00         3\n",
            "\n",
            "    accuracy                           0.56         9\n",
            "   macro avg       0.58      0.50      0.52         9\n",
            "weighted avg       0.63      0.56      0.57         9\n",
            "\n"
          ],
          "name": "stdout"
        },
        {
          "output_type": "display_data",
          "data": {
            "image/png": "[encoded data removed]",
            "text/plain": [
              "<Figure size 432x288 with 1 Axes>"
            ]
          },
          "metadata": {
            "tags": []
          }
        }
      ]
    },
    {
      "cell_type": "code",
      "metadata": {
        "id": "D2ZYB2ZpnrBt"
      },
      "source": [
        "from sklearn.naive_bayes import GaussianNB"
      ],
      "execution_count": null,
      "outputs": []
    },
    {
      "cell_type": "code",
      "metadata": {
        "colab": {
          "base_uri": "https://localhost:8080/",
          "height": 687
        },
        "id": "gavL30efnr58",
        "outputId": "54941b7a-7140-476d-f799-8642d21e0f28"
      },
      "source": [
        "g_nb = GaussianNB(priors=None)\n",
        "g_nb_fit = g_nb.fit(x_train, y_train)\n",
        "\n",
        "print('GaussianNB:')\n",
        "print('Train set accuracy:', g_nb.score(x_train, y_train))\n",
        "print('Test set accuracy:', g_nb.score(x_test, y_test))\n",
        "\n",
        "cnf = confusion_matrix(y_train, g_nb.predict(x_train))\n",
        "print('The confusion metrix of tranning set\\n', cnf)\n",
        "cnf=confusion_matrix(y_test, g_nb.predict(x_test))\n",
        "print('The confusion metrix of testing set\\n', cnf)\n",
        "\n",
        "mat = confusion_matrix(y_test, g_nb.predict(x_test))\n",
        "sns.heatmap(mat.T, square=True, annot=True, fmt='d', cbar=False)\n",
        "plt.xlabel('true label')\n",
        "plt.ylabel('predicted label');\n",
        "\n",
        "print(classification_report(y_test, knn.predict(x_test)))"
      ],
      "execution_count": null,
      "outputs": [
        {
          "output_type": "stream",
          "text": [
            "GaussianNB:\n",
            "Train set accuracy: 0.2857142857142857\n",
            "Test set accuracy: 0.1111111111111111\n",
            "The confusion metrix of tranning set\n",
            " [[4 3 0 2]\n",
            " [1 5 1 2]\n",
            " [4 3 0 2]\n",
            " [1 6 0 1]]\n",
            "The confusion metrix of testing set\n",
            " [[0 2 0 0]\n",
            " [1 1 0 0]\n",
            " [0 2 0 0]\n",
            " [2 1 0 0]]\n",
            "              precision    recall  f1-score   support\n",
            "\n",
            "           0       0.00      0.00      0.00         2\n",
            "           1       0.33      0.50      0.40         2\n",
            "           2       1.00      0.50      0.67         2\n",
            "           3       1.00      1.00      1.00         3\n",
            "\n",
            "    accuracy                           0.56         9\n",
            "   macro avg       0.58      0.50      0.52         9\n",
            "weighted avg       0.63      0.56      0.57         9\n",
            "\n"
          ],
          "name": "stdout"
        },
        {
          "output_type": "display_data",
          "data": {
            "image/png": "[encoded data removed]",
            "text/plain": [
              "<Figure size 432x288 with 1 Axes>"
            ]
          },
          "metadata": {
            "tags": []
          }
        }
      ]
    },
    {
      "cell_type": "code",
      "metadata": {
        "colab": {
          "base_uri": "https://localhost:8080/",
          "height": 687
        },
        "id": "UbhR1vIPn86k",
        "outputId": "908227d2-1814-4f1e-ac80-96ca46f26bea"
      },
      "source": [
        "from sklearn.ensemble import RandomForestClassifier\n",
        "rfc = RandomForestClassifier(n_estimators=14)\n",
        "rfc_fit = rfc.fit(x_train, y_train)\n",
        "\n",
        "print('RandomForest:')\n",
        "print('Train set accuracy:', rfc_fit.score(x_train, y_train))\n",
        "print('Test set accuracy:', rfc_fit.score(x_test, y_test))\n",
        "\n",
        "cnf = confusion_matrix(y_train, rfc_fit.predict(x_train))\n",
        "print('The confusion metrix of tranning set\\n', cnf)\n",
        "cnf=confusion_matrix(y_test, rfc_fit.predict(x_test))\n",
        "print('The confusion metrix of testing set\\n', cnf)\n",
        "\n",
        "mat = confusion_matrix(y_test, rfc_fit.predict(x_test))\n",
        "sns.heatmap(mat.T, square=True, annot=True, fmt='d', cbar=False)\n",
        "plt.xlabel('true label')\n",
        "plt.ylabel('predicted label');\n",
        "\n",
        "print(classification_report(y_test, rfc_fit.predict(x_test)))"
      ],
      "execution_count": null,
      "outputs": [
        {
          "output_type": "stream",
          "text": [
            "RandomForest:\n",
            "Train set accuracy: 0.9714285714285714\n",
            "Test set accuracy: 0.5555555555555556\n",
            "The confusion metrix of tranning set\n",
            " [[9 0 0 0]\n",
            " [0 9 0 0]\n",
            " [0 1 8 0]\n",
            " [0 0 0 8]]\n",
            "The confusion metrix of testing set\n",
            " [[0 1 1 0]\n",
            " [1 1 0 0]\n",
            " [1 0 1 0]\n",
            " [0 0 0 3]]\n",
            "              precision    recall  f1-score   support\n",
            "\n",
            "           0       0.00      0.00      0.00         2\n",
            "           1       0.50      0.50      0.50         2\n",
            "           2       0.50      0.50      0.50         2\n",
            "           3       1.00      1.00      1.00         3\n",
            "\n",
            "    accuracy                           0.56         9\n",
            "   macro avg       0.50      0.50      0.50         9\n",
            "weighted avg       0.56      0.56      0.56         9\n",
            "\n"
          ],
          "name": "stdout"
        },
        {
          "output_type": "display_data",
          "data": {
            "image/png": "[encoded data removed]",
            "text/plain": [
              "<Figure size 432x288 with 1 Axes>"
            ]
          },
          "metadata": {
            "tags": []
          }
        }
      ]
    },
    {
      "cell_type": "code",
      "metadata": {
        "id": "CDWho89jsERQ"
      },
      "source": [
        "from sklearn.linear_model import LogisticRegression"
      ],
      "execution_count": null,
      "outputs": []
    },
    {
      "cell_type": "code",
      "metadata": {
        "colab": {
          "base_uri": "https://localhost:8080/"
        },
        "id": "Qkq-acB8sHLQ",
        "outputId": "18f287cb-1c28-4a80-9e1b-cb4b25e2233e"
      },
      "source": [
        "logreg = LogisticRegression()\n",
        "logreg.fit(x_train, y_train)\n",
        "y_pred = logreg.predict(x_test)\n",
        "print('Accuracy of logistic regression classifier on test set: {:.2f}'.format(logreg.score(x_test, y_test)))"
      ],
      "execution_count": null,
      "outputs": [
        {
          "output_type": "stream",
          "text": [
            "Accuracy of logistic regression classifier on test set: 0.11\n"
          ],
          "name": "stdout"
        }
      ]
    },
    {
      "cell_type": "code",
      "metadata": {
        "id": "9PXWKJWKtRcx"
      },
      "source": [
        ""
      ],
      "execution_count": null,
      "outputs": []
    }
  ]
}